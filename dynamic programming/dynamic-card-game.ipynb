{
 "metadata": {
  "language_info": {
   "codemirror_mode": {
    "name": "ipython",
    "version": 3
   },
   "file_extension": ".py",
   "mimetype": "text/x-python",
   "name": "python",
   "nbconvert_exporter": "python",
   "pygments_lexer": "ipython3",
   "version": "3.7.6-final"
  },
  "orig_nbformat": 2,
  "kernelspec": {
   "name": "python3",
   "display_name": "Python 3",
   "language": "python"
  }
 },
 "nbformat": 4,
 "nbformat_minor": 2,
 "cells": [
  {
   "source": [
    "**\"Dynamic Card Game\"**: A casino offers a card game with 26 red and 26 black cards. The cards are shuffled and the dealer draws cards one by one (without putting back). You can ask the dealer to stop at any time you like. Upon stopping, you win \\$1 for each red card drawn, and lose \\$1 for each black card. What is the optimal stopping policy to maximize expected payoff and how much you are willing to pay for this game?\n",
    "    \n",
    "- Hint: Let the system state be $(b, r)$: the number of black and red cards still left in the deck. The (conditional) action space is really just \\{continue, stop\\} (at b, r).\n",
    "- What's the expected payoff $E[f(b, r)]$?"
   ],
   "cell_type": "markdown",
   "metadata": {}
  },
  {
   "source": [
    "### Similar to American Option Pricing"
   ],
   "cell_type": "markdown",
   "metadata": {}
  },
  {
   "cell_type": "code",
   "execution_count": 5,
   "metadata": {},
   "outputs": [],
   "source": [
    "from math import inf"
   ]
  },
  {
   "cell_type": "code",
   "execution_count": 6,
   "metadata": {},
   "outputs": [],
   "source": [
    "# dp[b][r] is the expected payoff of the optimal strategy when there are b blacks and r reds left\n",
    "dp = [[inf]*27 for _ in range(27)]"
   ]
  },
  {
   "cell_type": "code",
   "execution_count": 10,
   "metadata": {},
   "outputs": [],
   "source": [
    "for i in range(27):\n",
    "    dp[i][0] = i\n",
    "    dp[0][i] = 0"
   ]
  },
  {
   "cell_type": "code",
   "execution_count": 11,
   "metadata": {},
   "outputs": [],
   "source": [
    "for b in range(1, 27):\n",
    "    for r in range(1, 27):\n",
    "        stop_value = b-r\n",
    "        # if continue, prob of drawing black=b/(b+r) and prob of drawing red=r/(b+r)\n",
    "        prob_black = b/(b+r)\n",
    "        prob_red = r/(b+r)\n",
    "        continue_value = dp[b-1][r]*prob_black+dp[b][r-1]*prob_red\n",
    "        dp[b][r] = max(stop_value, continue_value)"
   ]
  },
  {
   "cell_type": "code",
   "execution_count": 12,
   "metadata": {},
   "outputs": [
    {
     "output_type": "execute_result",
     "data": {
      "text/plain": [
       "2.6244755489939244"
      ]
     },
     "metadata": {},
     "execution_count": 12
    }
   ],
   "source": [
    "dp[26][26]"
   ]
  },
  {
   "cell_type": "code",
   "execution_count": null,
   "metadata": {},
   "outputs": [],
   "source": []
  }
 ]
}